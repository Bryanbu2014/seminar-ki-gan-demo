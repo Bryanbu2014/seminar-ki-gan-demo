{
  "cells": [
    {
      "cell_type": "markdown",
      "metadata": {
        "id": "vK_66zGRXADa"
      },
      "source": [
        "Please refer to https://github.com/Bryanbu2014/seminar-ki-gan-demo for guidelines on how to use this notebook"
      ]
    },
    {
      "cell_type": "markdown",
      "metadata": {
        "id": "-2uLPJMU-1tm"
      },
      "source": [
        "# Mount Google Drive"
      ]
    },
    {
      "cell_type": "markdown",
      "metadata": {
        "id": "1xu0hZ-k_nbZ"
      },
      "source": [
        "Connect to Google Drive to save models, generated images, and progress"
      ]
    },
    {
      "cell_type": "code",
      "execution_count": null,
      "metadata": {
        "id": "pm77Vapz-4mb"
      },
      "outputs": [],
      "source": [
        "import os\n",
        "\n",
        "from google.colab import drive\n",
        "drive.mount('/content/drive', force_remount=True)"
      ]
    },
    {
      "cell_type": "markdown",
      "metadata": {
        "id": "YqTox_B7-7IR"
      },
      "source": [
        "# Data Preparation"
      ]
    },
    {
      "cell_type": "markdown",
      "metadata": {
        "id": "dtjU4zE0_R9X"
      },
      "source": [
        "Download and unzip the dataset, in this demonstration we will be using the CelebA dataset suggested by the book"
      ]
    },
    {
      "cell_type": "code",
      "execution_count": null,
      "metadata": {
        "id": "Rd1kD1dl_clD"
      },
      "outputs": [],
      "source": [
        "import os\n",
        "from zipfile import ZipFile\n",
        "from tqdm import tqdm\n",
        "\n",
        "!mkdir celeba_gan\n",
        "!gdown --id 1O7m1010EJjLE5QxLZiM9Fpjs7Oj6e684 -O celeba_gan/data.zip\n",
        "\n",
        "zip_path = 'celeba_gan/data.zip'\n",
        "extract_to = 'celeba_gan/'\n",
        "\n",
        "# Unzip\n",
        "with ZipFile(zip_path, 'r') as zip_ref:\n",
        "    file_names = zip_ref.namelist()\n",
        "    with tqdm(total=len(file_names), desc=\"Extracting files\") as progress_bar:\n",
        "        for file in file_names:\n",
        "            zip_ref.extract(member=file, path=extract_to)\n",
        "            progress_bar.update(1)"
      ]
    },
    {
      "cell_type": "markdown",
      "metadata": {
        "id": "nlmpF4AStOR8"
      },
      "source": [
        "Display one sample image"
      ]
    },
    {
      "cell_type": "code",
      "execution_count": null,
      "metadata": {
        "id": "EKanfhsviVvc"
      },
      "outputs": [],
      "source": [
        "from PIL import Image\n",
        "import matplotlib.pyplot as plt\n",
        "import os\n",
        "import random\n",
        "\n",
        "# Dataset directory\n",
        "image_directory = os.path.join(extract_to, 'img_align_celeba')\n",
        "image_files = os.listdir(image_directory)\n",
        "\n",
        "# Select a random image file\n",
        "random_image_file = random.choice(image_files)\n",
        "\n",
        "# Load and display the random image\n",
        "sample_image_path = os.path.join(image_directory, random_image_file)\n",
        "print(\"Random image path:\", sample_image_path)\n",
        "image = Image.open(sample_image_path)\n",
        "\n",
        "plt.imshow(image)\n",
        "plt.axis('off')\n",
        "plt.show()"
      ]
    },
    {
      "cell_type": "markdown",
      "metadata": {
        "id": "cdjLYmSqC0FM"
      },
      "source": [
        "Create a dataset using Keras high level API from the unzipped directory"
      ]
    },
    {
      "cell_type": "code",
      "execution_count": null,
      "metadata": {
        "id": "pQA9DWUuAlJz"
      },
      "outputs": [],
      "source": [
        "# https://keras.io/api/data_loading/image/\n",
        "\n",
        "image_resolution = 64\n",
        "\n",
        "from tensorflow import keras\n",
        "dataset = keras.utils.image_dataset_from_directory(\n",
        "    \"celeba_gan\",\n",
        "    label_mode=None,\n",
        "    image_size=(image_resolution, image_resolution),\n",
        "    batch_size=32,\n",
        "    smart_resize=True)"
      ]
    },
    {
      "cell_type": "code",
      "execution_count": null,
      "metadata": {
        "id": "04Nt9WTENn-R"
      },
      "outputs": [],
      "source": [
        "# Shape of the batch in the dataset\n",
        "\n",
        "for batch in dataset:\n",
        "    shape = batch.shape\n",
        "    print(shape)\n",
        "    print(f\"Batch size: {shape[0]}\")\n",
        "    print(f\"Image size (height, width): {shape[1]}, {shape[2]}\")\n",
        "    print(f\"Channels: {shape[3]}\")\n",
        "    break"
      ]
    },
    {
      "cell_type": "markdown",
      "metadata": {
        "id": "4dtwS-WkGJEr"
      },
      "source": [
        "Now we normalize the pixel values of the images in the dataset, as it is a crucial preprocessing step in ML and DL pipelines"
      ]
    },
    {
      "cell_type": "code",
      "execution_count": null,
      "metadata": {
        "id": "xebCVuWIDEkq"
      },
      "outputs": [],
      "source": [
        "import tensorflow as tf\n",
        "\n",
        "# Normalization process involves scaling the pixel intensity values, which are\n",
        "# originally in the range [0, 255]\n",
        "dataset = dataset.map(lambda x: tf.cast(x, tf.float32) / 255.0)"
      ]
    },
    {
      "cell_type": "markdown",
      "metadata": {
        "id": "9qxo9SWLe8h4"
      },
      "source": [
        "Display one processed image"
      ]
    },
    {
      "cell_type": "code",
      "execution_count": null,
      "metadata": {
        "id": "tVYScbb1GQOL"
      },
      "outputs": [],
      "source": [
        "import matplotlib.pyplot as plt\n",
        "for x in dataset:\n",
        "    plt.axis(\"off\")\n",
        "    plt.imshow((x.numpy() * 255).astype(\"int32\")[0])\n",
        "    break"
      ]
    },
    {
      "cell_type": "markdown",
      "metadata": {
        "id": "GAFg1TTxGYOy"
      },
      "source": [
        "# Generative Adversarial Network (GAN)"
      ]
    },
    {
      "cell_type": "markdown",
      "metadata": {
        "id": "v28PgX-tWRwJ"
      },
      "source": [
        "GANs consist of two neural networks, the generator and the discriminator, both are trained simultaneously through an adversarial process"
      ]
    },
    {
      "cell_type": "markdown",
      "metadata": {
        "id": "Oh_bOfE0iBv7"
      },
      "source": [
        "![image.png](data:image/png;base64,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)"
      ]
    },
    {
      "cell_type": "markdown",
      "metadata": {
        "id": "gGfkg98VXDCY"
      },
      "source": [
        "### The Generator Network"
      ]
    },
    {
      "cell_type": "markdown",
      "metadata": {
        "id": "EJhJgYCCX_8e"
      },
      "source": [
        "The generator's job is to create fake data that is as close as possible to the real data"
      ]
    },
    {
      "cell_type": "code",
      "execution_count": null,
      "metadata": {
        "id": "u21wFVMkYqSF"
      },
      "outputs": [],
      "source": [
        "latent_dim = 128\n",
        "\n",
        "generator = keras.Sequential(name=\"generator\")\n",
        "\n",
        "# Input layer\n",
        "generator.add(keras.layers.Input(shape=(latent_dim,)))\n",
        "\n",
        "# Dense layer\n",
        "generator.add(keras.layers.Dense(8 * 8 * 128))\n",
        "\n",
        "# Reshape layer\n",
        "generator.add(keras.layers.Reshape((8, 8, 128)))\n",
        "\n",
        "# Deconvolutional layers\n",
        "generator.add(keras.layers.Conv2DTranspose(128, kernel_size=4, strides=2, padding=\"same\"))\n",
        "generator.add(keras.layers.LeakyReLU(alpha=0.2))\n",
        "generator.add(keras.layers.Conv2DTranspose(256, kernel_size=4, strides=2, padding=\"same\"))\n",
        "generator.add(keras.layers.LeakyReLU(alpha=0.2))\n",
        "generator.add(keras.layers.Conv2DTranspose(512, kernel_size=4, strides=2, padding=\"same\"))\n",
        "generator.add(keras.layers.LeakyReLU(alpha=0.2))\n",
        "\n",
        "# Convolutional layer\n",
        "generator.add(keras.layers.Conv2D(3, kernel_size=5, padding=\"same\", activation=\"sigmoid\"))\n",
        "\n",
        "generator.summary()"
      ]
    },
    {
      "cell_type": "markdown",
      "metadata": {
        "id": "hLwqKv3TfS4u"
      },
      "source": [
        "ReLU vs LeakyReLU"
      ]
    },
    {
      "cell_type": "markdown",
      "metadata": {
        "id": "3Y91JRZyfGw4"
      },
      "source": [
        "![image.png](data:image/png;base64,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)"
      ]
    },
    {
      "cell_type": "markdown",
      "metadata": {
        "id": "B-VhyL9UWqhy"
      },
      "source": [
        "### The Discriminator Network"
      ]
    },
    {
      "cell_type": "markdown",
      "metadata": {
        "id": "GOdsYX90WuCQ"
      },
      "source": [
        "The discriminator's job is to classify data as either real (from the training dataset) or fake (produced by the generator)"
      ]
    },
    {
      "cell_type": "code",
      "execution_count": null,
      "metadata": {
        "id": "79cko5umW6OP"
      },
      "outputs": [],
      "source": [
        "from tensorflow import keras\n",
        "\n",
        "discriminator = keras.Sequential(name=\"discriminator\")\n",
        "\n",
        "# Input layer\n",
        "discriminator.add(keras.Input(shape=(64, 64, 3)))\n",
        "\n",
        "# Convolutional layers\n",
        "discriminator.add(keras.layers.Conv2D(64, kernel_size=4, strides=2, padding=\"same\"))\n",
        "discriminator.add(keras.layers.LeakyReLU(alpha=0.2))\n",
        "discriminator.add(keras.layers.Conv2D(128, kernel_size=4, strides=2, padding=\"same\"))\n",
        "discriminator.add(keras.layers.LeakyReLU(alpha=0.2))\n",
        "discriminator.add(keras.layers.Conv2D(128, kernel_size=4, strides=2, padding=\"same\"))\n",
        "discriminator.add(keras.layers.LeakyReLU(alpha=0.2))\n",
        "\n",
        "# Flatten layer\n",
        "discriminator.add(keras.layers.Flatten())\n",
        "\n",
        "# Dropout layer\n",
        "discriminator.add(keras.layers.Dropout(0.2))\n",
        "\n",
        "# Dense layer\n",
        "discriminator.add(keras.layers.Dense(1, activation=\"sigmoid\"))\n",
        "\n",
        "# Summary of the model / neural network\n",
        "discriminator.summary()"
      ]
    },
    {
      "cell_type": "markdown",
      "metadata": {
        "id": "K5STpSBxY5Dh"
      },
      "source": [
        "### The GAN Model"
      ]
    },
    {
      "cell_type": "markdown",
      "metadata": {
        "id": "5MCW701cfjWp"
      },
      "source": [
        "This section combines both generator and discriminator network to build a GAN model"
      ]
    },
    {
      "cell_type": "code",
      "execution_count": null,
      "metadata": {
        "id": "_BpNwch0sAIX"
      },
      "outputs": [],
      "source": [
        "import tensorflow as tf\n",
        "\n",
        "@keras.saving.register_keras_serializable()\n",
        "class GAN(keras.Model):\n",
        "    def __init__(self, discriminator, generator, latent_dim):\n",
        "        super().__init__()\n",
        "        self.discriminator = discriminator\n",
        "        self.generator = generator\n",
        "        self.latent_dim = latent_dim\n",
        "        self.d_loss_metric = keras.metrics.Mean(name=\"d_loss\")\n",
        "        self.g_loss_metric = keras.metrics.Mean(name=\"g_loss\")\n",
        "\n",
        "    def compile(self, d_optimizer, g_optimizer, loss_fn):\n",
        "        super(GAN, self).compile()  # Calls the compile method of the superclass (keras.Model) of GAN.\n",
        "        # This is necessary to ensure that the model is set up correctly with any basic configurations handled by Keras's own Model class\n",
        "        self.d_optimizer = d_optimizer\n",
        "        self.g_optimizer = g_optimizer\n",
        "        self.loss_fn = loss_fn\n",
        "\n",
        "    @property\n",
        "    def metrics(self):\n",
        "        return [self.d_loss_metric, self.g_loss_metric]\n",
        "\n",
        "    # Step-by-step training for both networks\n",
        "    def train_step(self, real_images):\n",
        "        batch_size = tf.shape(real_images)[0]\n",
        "        random_latent_vectors = tf.random.normal(shape=(batch_size, self.latent_dim))\n",
        "        generated_images = self.generator(random_latent_vectors)\n",
        "        combined_images = tf.concat([generated_images, real_images], axis=0)\n",
        "        labels = tf.concat([tf.ones((batch_size, 1)), tf.zeros((batch_size, 1))], axis=0)\n",
        "        labels += 0.05 * tf.random.uniform(tf.shape(labels))\n",
        "\n",
        "        with tf.GradientTape() as tape:\n",
        "            predictions = self.discriminator(combined_images)\n",
        "            d_loss = self.loss_fn(labels, predictions)\n",
        "        grads = tape.gradient(d_loss, self.discriminator.trainable_weights)\n",
        "        self.d_optimizer.apply_gradients(zip(grads, self.discriminator.trainable_weights))\n",
        "\n",
        "        random_latent_vectors = tf.random.normal(shape=(batch_size, self.latent_dim))\n",
        "\n",
        "        misleading_labels = tf.zeros((batch_size, 1))\n",
        "\n",
        "        with tf.GradientTape() as tape:\n",
        "            predictions = self.discriminator(self.generator(random_latent_vectors))\n",
        "            g_loss = self.loss_fn(misleading_labels, predictions)\n",
        "        grads = tape.gradient(g_loss, self.generator.trainable_weights)\n",
        "        self.g_optimizer.apply_gradients(zip(grads, self.generator.trainable_weights))\n",
        "\n",
        "        self.d_loss_metric.update_state(d_loss)\n",
        "        self.g_loss_metric.update_state(g_loss)\n",
        "        return {\"d_loss\": self.d_loss_metric.result(), \"g_loss\": self.g_loss_metric.result()}\n",
        "\n",
        "    def get_config(self):\n",
        "        config = super(GAN, self).get_config()\n",
        "        # Storing the configuration of both sub-models\n",
        "        config.update({\n",
        "            \"discriminator_config\": self.discriminator.get_config(),\n",
        "            \"generator_config\": self.generator.get_config(),\n",
        "            \"latent_dim\": self.latent_dim\n",
        "        })\n",
        "        return config\n",
        "\n",
        "    @classmethod\n",
        "    def from_config(cls, config):\n",
        "        discriminator = keras.Sequential.from_config(config[\"discriminator_config\"])\n",
        "        generator = keras.Sequential.from_config(config[\"generator_config\"])\n",
        "        latent_dim = config[\"latent_dim\"]\n",
        "        return cls(discriminator=discriminator, generator=generator, latent_dim=latent_dim)"
      ]
    },
    {
      "cell_type": "markdown",
      "metadata": {
        "id": "QFEtJUR0-T5r"
      },
      "source": [
        "### Image Generation Callback"
      ]
    },
    {
      "cell_type": "code",
      "execution_count": null,
      "metadata": {
        "id": "OWFXrD_g-W0X"
      },
      "outputs": [],
      "source": [
        "# https://github.com/keras-team/keras/blob/v3.3.3/keras/src/callbacks/callback.py#L5\n",
        "\n",
        "class GANMonitor(keras.callbacks.Callback):\n",
        "    def __init__(self, num_img=3, latent_dim=128):\n",
        "        self.num_img = num_img\n",
        "        self.latent_dim = latent_dim\n",
        "\n",
        "    # Override on_epoch_end method\n",
        "    def on_epoch_end(self, epoch, logs=None):\n",
        "        random_latent_vectors = tf.random.normal(shape=(self.num_img, self.latent_dim))\n",
        "        generated_images = self.model.generator(random_latent_vectors)\n",
        "        generated_images = (generated_images * 255).numpy()\n",
        "\n",
        "      # Create a directory for every epoch\n",
        "        epoch_dir = f\"/content/drive/MyDrive/colab-notebooks/generative-adversarial-network/epoch-image/{epoch+1:03d}\"\n",
        "        if not os.path.exists(epoch_dir):\n",
        "            os.makedirs(epoch_dir)\n",
        "\n",
        "        for i in range(self.num_img):\n",
        "            img = keras.utils.array_to_img(generated_images[i])\n",
        "            img_path = os.path.join(epoch_dir, f\"generated_img_{epoch+1:03d}_{i}.png\")\n",
        "            img.save(img_path)\n",
        "            print(f\"saving image to {img_path}\")"
      ]
    },
    {
      "cell_type": "markdown",
      "metadata": {
        "id": "oikA614iPyuq"
      },
      "source": [
        "# Model Training"
      ]
    },
    {
      "cell_type": "markdown",
      "metadata": {
        "id": "PZEt5RTtP01V"
      },
      "source": [
        "### From Start"
      ]
    },
    {
      "cell_type": "code",
      "execution_count": null,
      "metadata": {
        "id": "pWQXRn7VQDa3"
      },
      "outputs": [],
      "source": [
        "# https://keras.io/api/optimizers/adam/\n",
        "\n",
        "from tensorflow.keras.callbacks import ModelCheckpoint\n",
        "\n",
        "epochs = 100\n",
        "\n",
        "checkpoint_filepath = \"/content/drive/MyDrive/colab-notebooks/generative-adversarial-network/model-checkpoint/model_{epoch:02d}.keras\"\n",
        "\n",
        "# Save model\n",
        "model_checkpoint_callback = keras.callbacks.ModelCheckpoint(\n",
        "    filepath=checkpoint_filepath,\n",
        "    verbose=1\n",
        ")\n",
        "\n",
        "gan = GAN(discriminator=discriminator, generator=generator, latent_dim=latent_dim)\n",
        "\n",
        "\n",
        "gan.compile(d_optimizer=keras.optimizers.Adam(learning_rate=0.0001),\n",
        "            g_optimizer=keras.optimizers.Adam(learning_rate=0.0001),\n",
        "            loss_fn=keras.losses.BinaryCrossentropy(),\n",
        "            )\n",
        "\n",
        "gan.fit(dataset, epochs=epochs, callbacks=[GANMonitor(num_img=10, latent_dim=latent_dim), model_checkpoint_callback])"
      ]
    },
    {
      "cell_type": "markdown",
      "metadata": {
        "id": "GbHoB462P9lp"
      },
      "source": [
        "### From Saved Model"
      ]
    },
    {
      "cell_type": "code",
      "execution_count": null,
      "metadata": {
        "id": "9fWfDMUxQabU"
      },
      "outputs": [],
      "source": [
        "import re\n",
        "\n",
        "model_name = os.listdir(\"/content/drive/MyDrive/colab-notebooks/generative-adversarial-network/model-checkpoint\")\n",
        "model_name_sorted = sorted(model_name, key=lambda x: int(x.split('_')[1].split('.')[0]))\n",
        "\n",
        "match = re.search(r'\\d{1,2}', model_name_sorted[-1])\n",
        "if match:\n",
        "    number = match.group()\n",
        "    if len(number) == 2 and number[0] == '0':\n",
        "        model_epoch = int(number[1])\n",
        "    else:\n",
        "        model_epoch = int(number)\n",
        "print(f\"model_name: {model_name_sorted[-1]}\")\n",
        "print(f\"model_epoch: {model_epoch}\")"
      ]
    },
    {
      "cell_type": "code",
      "execution_count": null,
      "metadata": {
        "id": "eIxYjnSkQcNa"
      },
      "outputs": [],
      "source": [
        "from tensorflow.keras.models import load_model\n",
        "from tensorflow.keras.callbacks import ModelCheckpoint\n",
        "\n",
        "\n",
        "checkpoint_filepath = \"/content/drive/MyDrive/colab-notebooks/generative-adversarial-network/model-checkpoint/model_{epoch:02d}.keras\"\n",
        "model_checkpoint_callback = keras.callbacks.ModelCheckpoint(\n",
        "    filepath=checkpoint_filepath,\n",
        "    verbose=1\n",
        ")\n",
        "\n",
        "model_name = os.listdir(\"/content/drive/MyDrive/colab-notebooks/generative-adversarial-network/model-checkpoint\")[-1]\n",
        "model_path = f\"/content/drive/MyDrive/colab-notebooks/generative-adversarial-network/model-checkpoint/{model_name}\"\n",
        "gan = load_model(model_path, custom_objects={\"GAN\": GAN})\n",
        "\n",
        "epochs = 100\n",
        "\n",
        "gan.compile(d_optimizer=keras.optimizers.Adam(learning_rate=0.0001),\n",
        "            g_optimizer=keras.optimizers.Adam(learning_rate=0.0001),\n",
        "            loss_fn=keras.losses.BinaryCrossentropy(),\n",
        "            )\n",
        "# initial_epoch indicates training up to and including the number of epoch\n",
        "# initial_epoch=1 means training up to and including 1, so keras should start from the second epoch\n",
        "gan.fit(dataset, epochs=epochs, initial_epoch=model_epoch, callbacks=[GANMonitor(num_img=10, latent_dim=latent_dim), model_checkpoint_callback])"
      ]
    },
    {
      "cell_type": "markdown",
      "metadata": {
        "id": "c4VAWVUVxWJ2"
      },
      "source": [
        "# Model Inference"
      ]
    },
    {
      "cell_type": "code",
      "execution_count": null,
      "metadata": {
        "id": "hTu7k116xaGz"
      },
      "outputs": [],
      "source": [
        "from tensorflow.keras.models import load_model\n",
        "\n",
        "model_number = \"101\"\n",
        "\n",
        "model_name = f\"model_{model_number}.keras\"\n",
        "model_path = f\"/content/drive/MyDrive/colab-notebooks/generative-adversarial-network/model-checkpoint/{model_name}\"\n",
        "model = load_model(model_path)\n",
        "\n",
        "model.compile(d_optimizer=keras.optimizers.Adam(learning_rate=0.0001),\n",
        "              g_optimizer=keras.optimizers.Adam(learning_rate=0.0001),\n",
        "              loss_fn=keras.losses.BinaryCrossentropy(),\n",
        "              )"
      ]
    },
    {
      "cell_type": "code",
      "execution_count": null,
      "metadata": {
        "id": "raXU83oBxllG"
      },
      "outputs": [],
      "source": [
        "import matplotlib.pyplot as plt\n",
        "\n",
        "def model_inference(model, latent_dim=model.latent_dim, num_img=5):\n",
        "    random_latent_vectors = tf.random.normal(shape=(num_img, latent_dim))\n",
        "    generated_images = model.generator(random_latent_vectors)\n",
        "    generated_images = (generated_images * 255).numpy()\n",
        "\n",
        "    for i in range(num_img):\n",
        "        img = keras.utils.array_to_img(generated_images[i])\n",
        "        plt.imshow(img)\n",
        "        plt.axis(\"off\")\n",
        "        plt.show()"
      ]
    },
    {
      "cell_type": "code",
      "execution_count": null,
      "metadata": {
        "id": "taMbSzhSxmwW"
      },
      "outputs": [],
      "source": [
        "model_inference(model)"
      ]
    },
    {
      "cell_type": "markdown",
      "metadata": {
        "id": "hkdALrDHyfNP"
      },
      "source": [
        "# Loss Graph"
      ]
    },
    {
      "cell_type": "markdown",
      "metadata": {
        "id": "dpEOsl1Ufu9y"
      },
      "source": [
        "Training loss for both generator and discriminator from epoch 36 to 100"
      ]
    },
    {
      "cell_type": "code",
      "execution_count": null,
      "metadata": {
        "id": "9x7crxVQygEF"
      },
      "outputs": [],
      "source": [
        "# https://matplotlib.org/stable/\n",
        "\n",
        "import matplotlib.pyplot as plt\n",
        "\n",
        "epochs = list(range(36, 101))\n",
        "d_loss = [0.6439, 0.6476, 0.6403, 0.6389, 0.6378, 0.6373, 0.6376, 0.6323, 0.6374,\n",
        "          0.6382, 0.6331, 0.6378, 0.6355, 0.6319, 0.6295, 0.6300, 0.6296, 0.6278,\n",
        "          0.6286, 0.6275, 0.6265, 0.6265, 0.6253, 0.6243, 0.6235, 0.6231, 0.6218,\n",
        "          0.6194, 0.6184, 0.6177, 0.6166, 0.6148, 0.6152, 0.6116, 0.6116, 0.6074,\n",
        "          0.6046, 0.6061, 0.6032, 0.6017, 0.6018, 0.5988, 0.5978, 0.5954, 0.5960,\n",
        "          0.5928, 0.5929, 0.5886, 0.5877, 0.5869, 0.5841, 0.5804, 0.5804,   0.5771,\n",
        "          0.5771, 0.5733, 0.5712, 0.5701, 0.5676, 0.5655, 0.5646, 0.5640, 0.5600,\n",
        "          0.5589, 0.5561]\n",
        "g_loss = [0.9513, 0.9552, 0.9612, 0.9628, 0.9722, 0.9694, 0.9768, 0.9734, 0.9750,\n",
        "          0.9747, 0.9730, 0.9737, 0.9918, 0.9947, 0.9935, 0.9826, 0.9956, 0.9946,\n",
        "          0.9888, 1.0048, 0.9887, 1.0034, 1.0036, 1.0060, 1.0110, 1.0081, 0.9988,\n",
        "          1.0181, 1.0205, 1.0234, 1.0180, 1.0300, 1.0378, 1.0360, 1.0462, 1.0429,\n",
        "          1.0506, 1.0523, 1.0589, 1.0581, 1.0616, 1.0747, 1.0667, 1.0763, 1.0750,\n",
        "          1.0862, 1.0859, 1.0969, 1.1003, 1.1096, 1.1134, 1.1180, 1.1319, 1.1462,\n",
        "          1.1330, 1.1494, 1.1587, 1.1617, 1.1622, 1.1747, 1.1796, 1.1784, 1.1972,\n",
        "          1.2023, 1.2050]\n",
        "\n",
        "plt.figure(figsize=(10, 5))\n",
        "plt.plot(epochs, g_loss, label='g_loss (generator)', marker='x')\n",
        "plt.plot(epochs, d_loss, label='d_loss (discriminator)', marker='x')\n",
        "plt.xlabel('Epochs')\n",
        "plt.ylabel('Loss')\n",
        "plt.title('Training Loss Over Epochs')\n",
        "plt.legend(loc='center')\n",
        "plt.grid(True)\n",
        "plt.show()"
      ]
    }
  ],
  "metadata": {
    "colab": {
      "collapsed_sections": [
        "c4VAWVUVxWJ2"
      ],
      "machine_shape": "hm",
      "provenance": []
    },
    "kernelspec": {
      "display_name": "Python 3",
      "name": "python3"
    },
    "language_info": {
      "name": "python"
    }
  },
  "nbformat": 4,
  "nbformat_minor": 0
}
